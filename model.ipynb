{
 "cells": [
  {
   "cell_type": "code",
   "execution_count": 30,
   "metadata": {},
   "outputs": [],
   "source": [
    "# Import the required libraries\n",
    "import pandas as pd\n",
    "import numpy as np\n",
    "from sklearn.linear_model import LinearRegression\n",
    "from sklearn.model_selection import train_test_split\n",
    "from sklearn.metrics import mean_squared_error, r2_score\n",
    "import mlflow\n",
    "\n",
    "\n",
    "mlflow.start_run()\n",
    "# Load the dataset\n",
    "df = pd.read_csv('stock_data.csv')\n",
    "\n",
    "# Preprocess the data\n",
    "X = df[['Open', 'High', 'Low', 'Volume']]  # Features\n",
    "y = df['Close']  # Target variable\n",
    "\n",
    "\n",
    "X = X.replace(',', '', regex=True)\n",
    "X = X.astype(float)\n",
    "\n",
    "\n",
    "y = y.replace(',', '', regex=True)\n",
    "y = y.astype(float)\n",
    "\n",
    "\n",
    "# # Split the data into training and testing sets\n",
    "X_train, X_test, y_train, y_test = train_test_split(X, y, test_size=0.3, random_state=42)\n",
    "\n",
    "# # Train the linear regression model\n",
    "model = LinearRegression()\n",
    "model.fit(X_train, y_train)\n",
    "\n",
    "# # Predict the closing price of the stock using the trained model\n",
    "y_pred = model.predict(X_test)\n",
    "\n",
    "# Evaluate the model's performance on the testing data\n",
    "mse = mean_squared_error(y_test, y_pred)\n",
    "rmse = np.sqrt(mse)\n",
    "r2 = r2_score(y_test, y_pred)\n",
    "\n",
    "\n",
    "mlflow.log_metric(\"mse\", mse)\n",
    "mlflow.log_metric(\"rmse\", rmse)\n",
    "mlflow.log_metric(\"r2\", r2)\n",
    "\n",
    "# End the MLflow run\n",
    "mlflow.end_run()\n",
    "\n",
    "# print(f\"Mean Squared Error: {mse:.2f}\")\n",
    "# print(f\"Root Mean Squared Error: {rmse:.2f}\")\n",
    "# print(f\"R-squared: {r2:.2f}\")\n"
   ]
  },
  {
   "cell_type": "code",
   "execution_count": null,
   "metadata": {},
   "outputs": [],
   "source": []
  }
 ],
 "metadata": {
  "kernelspec": {
   "display_name": "Python 3 (ipykernel)",
   "language": "python",
   "name": "python3"
  },
  "language_info": {
   "codemirror_mode": {
    "name": "ipython",
    "version": 3
   },
   "file_extension": ".py",
   "mimetype": "text/x-python",
   "name": "python",
   "nbconvert_exporter": "python",
   "pygments_lexer": "ipython3",
   "version": "3.9.12"
  },
  "vscode": {
   "interpreter": {
    "hash": "0345be6022014f7b110d0f30e68c7826d0401c0cc0e6047840e64d9a8abd8323"
   }
  }
 },
 "nbformat": 4,
 "nbformat_minor": 2
}
